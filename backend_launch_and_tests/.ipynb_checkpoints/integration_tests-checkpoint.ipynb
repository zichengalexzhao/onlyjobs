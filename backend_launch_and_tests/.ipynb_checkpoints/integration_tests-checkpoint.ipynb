{
 "cells": [
  {
   "cell_type": "markdown",
   "id": "bd011623-d49b-437b-82d5-b5816087717e",
   "metadata": {},
   "source": [
    "## 1. backend/services/process_emails"
   ]
  },
  {
   "cell_type": "code",
   "execution_count": 1,
   "id": "0554cdfb-13c0-4f2d-aa29-f569ad0d624a",
   "metadata": {
    "tags": []
   },
   "outputs": [
    {
     "name": "stdout",
     "output_type": "stream",
     "text": [
      "Updated property [core/project].\n",
      "Pub/Sub Publisher initialized for topic: projects/onlyjobs-465420/topics/new-emails-topic\n"
     ]
    }
   ],
   "source": [
    "# Cell 1: Setup Environment and Pub/Sub Client\n",
    "import os\n",
    "import json\n",
    "import base64\n",
    "from datetime import datetime\n",
    "import uuid\n",
    "from google.cloud import pubsub_v1 # Import the Pub/Sub client library\n",
    "\n",
    "# --- Project Configuration ---\n",
    "PROJECT_ID = \"onlyjobs-465420\" # <<-- IMPORTANT: Replace with your actual GCP Project ID\n",
    "PUB_SUB_TOPIC_ID = \"new-emails-topic\" # <<-- IMPORTANT: Your Pub/Sub topic name\n",
    "\n",
    "# Set gcloud project for this session (useful if running outside of gcloud default context)\n",
    "!gcloud config set project {PROJECT_ID}\n",
    "\n",
    "# Initialize Pub/Sub publisher client\n",
    "publisher = pubsub_v1.PublisherClient()\n",
    "topic_path = publisher.topic_path(PROJECT_ID, PUB_SUB_TOPIC_ID)\n",
    "\n",
    "print(f\"Pub/Sub Publisher initialized for topic: {topic_path}\")"
   ]
  },
  {
   "cell_type": "code",
   "execution_count": 2,
   "id": "df93c0e4-2681-447d-a5e9-99d593e56cd8",
   "metadata": {
    "tags": []
   },
   "outputs": [
    {
     "name": "stdout",
     "output_type": "stream",
     "text": [
      "publish_test_email function defined.\n"
     ]
    }
   ],
   "source": [
    "# Cell 2: Function to Publish a Test Email Message\n",
    "\n",
    "def publish_test_email(user_id: str, email_content: str, email_date: str = None):\n",
    "    \"\"\"\n",
    "    Publishes a test email message to the Pub/Sub topic.\n",
    "    \"\"\"\n",
    "    if email_date is None:\n",
    "        email_date = datetime.utcnow().strftime(\"%Y-%m-%d\")\n",
    "\n",
    "    # Generate a unique email_id for traceability\n",
    "    email_id = f\"cloud-test-email-{datetime.utcnow().strftime('%Y%m%d%H%M%S')}-{uuid.uuid4().hex[:8]}\"\n",
    "\n",
    "    payload = {\n",
    "        \"user_id\": user_id,\n",
    "        \"email_id\": email_id,\n",
    "        \"email_content\": email_content,\n",
    "        \"email_date\": email_date\n",
    "    }\n",
    "\n",
    "    data_str = json.dumps(payload)\n",
    "    data = data_str.encode(\"utf-8\") # Messages must be bytes\n",
    "\n",
    "    future = publisher.publish(topic_path, data)\n",
    "    message_id = future.result() # Blocks until the message is published\n",
    "\n",
    "    print(f\"✅ Published message with ID: {message_id}\")\n",
    "    print(f\"   For User ID: {user_id}\")\n",
    "    print(f\"   Email ID: {email_id}\")\n",
    "    print(f\"   Content Snippet: {email_content[:100]}...\")\n",
    "\n",
    "    return message_id, user_id, email_id\n",
    "\n",
    "print(\"publish_test_email function defined.\")"
   ]
  },
  {
   "cell_type": "code",
   "execution_count": 4,
   "id": "f5d7dcf8-ef0e-46ee-bb39-ee17de1abe32",
   "metadata": {
    "tags": []
   },
   "outputs": [
    {
     "name": "stdout",
     "output_type": "stream",
     "text": [
      "--- Publishing Job Application Test Email ---\n",
      "✅ Published message with ID: 15510930020054143\n",
      "   For User ID: cloud_user_test_001\n",
      "   Email ID: cloud-test-email-20250710230109-49663831\n",
      "   Content Snippet: Subject: Your Application for Software Developer at Tech Innovators\n",
      "\n",
      "Dear Candidate,\n",
      "\n",
      "Thank you for ...\n",
      "\n",
      "--- Publishing Non-Job Application Test Email ---\n",
      "✅ Published message with ID: 15511656817407122\n",
      "   For User ID: cloud_user_test_002\n",
      "   Email ID: cloud-test-email-20250710230109-9a042e65\n",
      "   Content Snippet: Subject: Your Order Confirmation\n",
      "\n",
      "Hi,\n",
      "\n",
      "Your recent order #12345 has been confirmed and will ship soo...\n",
      "\n",
      "Test messages published. Check Cloud Logging, BigQuery, and Firestore.\n"
     ]
    }
   ],
   "source": [
    "# Cell 3: Run the Test (Publish a Sample Job Application Email)\n",
    "\n",
    "test_email_content_job_app = \"\"\"Subject: Your Application for Software Developer at Tech Innovators\n",
    "\n",
    "Dear Candidate,\n",
    "\n",
    "Thank you for your interest in the Software Developer position at Tech Innovators. We have received your application and will review it shortly.\n",
    "\n",
    "Best regards,\n",
    "Tech Innovators Hiring Team\n",
    "\"\"\"\n",
    "\n",
    "print(\"--- Publishing Job Application Test Email ---\")\n",
    "message_id_job_app, user_id_job_app, email_id_job_app = publish_test_email(\n",
    "    user_id=\"cloud_user_test_001\",\n",
    "    email_content=test_email_content_job_app,\n",
    "    email_date=\"2025-07-10\" # Current date in San Jose is July 10, 2025\n",
    ")\n",
    "\n",
    "print(\"\\n--- Publishing Non-Job Application Test Email ---\")\n",
    "test_email_content_non_job = \"\"\"Subject: Your Order Confirmation\n",
    "\n",
    "Hi,\n",
    "\n",
    "Your recent order #12345 has been confirmed and will ship soon.\n",
    "\n",
    "Thanks,\n",
    "Online Store\n",
    "\"\"\"\n",
    "message_id_non_job, user_id_non_job, email_id_non_job = publish_test_email(\n",
    "    user_id=\"cloud_user_test_002\",\n",
    "    email_content=test_email_content_non_job,\n",
    "    email_date=\"2025-07-09\"\n",
    ")\n",
    "\n",
    "print(\"\\nTest messages published. Check Cloud Logging, BigQuery, and Firestore.\")"
   ]
  },
  {
   "cell_type": "code",
   "execution_count": null,
   "id": "bc92f4fc-9358-4c25-a4b9-2a8b4793c83b",
   "metadata": {},
   "outputs": [],
   "source": []
  }
 ],
 "metadata": {
  "environment": {
   "kernel": "conda-base-py",
   "name": "workbench-notebooks.m130",
   "type": "gcloud",
   "uri": "us-docker.pkg.dev/deeplearning-platform-release/gcr.io/workbench-notebooks:m130"
  },
  "kernelspec": {
   "display_name": "Python 3 (ipykernel) (Local)",
   "language": "python",
   "name": "conda-base-py"
  },
  "language_info": {
   "codemirror_mode": {
    "name": "ipython",
    "version": 3
   },
   "file_extension": ".py",
   "mimetype": "text/x-python",
   "name": "python",
   "nbconvert_exporter": "python",
   "pygments_lexer": "ipython3",
   "version": "3.10.18"
  }
 },
 "nbformat": 4,
 "nbformat_minor": 5
}
